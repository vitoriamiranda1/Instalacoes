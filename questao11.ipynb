Mst_r = 3.7; %relação conjugado de partida/nominal
Mk_r = 3.6; %relação conjugado máx/nominal
Ist_r = 8; %relação corrente de partida/nominal
ns = 1800; %velocidade sincrona
nr = 1725; %velocidade nominal
FP = 0.78; %Fator de potência plena carga
Pn = 3700;
In = 8.19; Vl = 380; %corrente e tensão nominal de linha (380 V)
tn = 20.5; % torque nominal [Nm]

